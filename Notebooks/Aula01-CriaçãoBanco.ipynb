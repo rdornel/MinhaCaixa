{
    "metadata": {
        "kernelspec": {
            "name": "SQL",
            "display_name": "SQL",
            "language": "sql"
        },
        "language_info": {
            "name": "sql",
            "version": ""
        }
    },
    "nbformat_minor": 2,
    "nbformat": 4,
    "cells": [
        {
            "cell_type": "markdown",
            "source": [
                "Para iniciar seu projeto, você precisa primeiro criar um banco de dados usando o comando abaixo:"
            ],
            "metadata": {
                "azdata_cell_guid": "5080528b-1333-487e-aaf9-b434e9ec067a"
            },
            "attachments": {}
        },
        {
            "cell_type": "code",
            "source": [
                "CREATE DATABASE MeuBanco;"
            ],
            "metadata": {
                "azdata_cell_guid": "4a58106b-70d7-486e-939c-20284ea253fe",
                "language": "sql"
            },
            "outputs": [
                {
                    "output_type": "display_data",
                    "data": {
                        "text/html": "Commands completed successfully."
                    },
                    "metadata": {}
                },
                {
                    "output_type": "display_data",
                    "data": {
                        "text/html": "Total execution time: 00:00:01.012"
                    },
                    "metadata": {}
                }
            ],
            "execution_count": 1
        }
    ]
}